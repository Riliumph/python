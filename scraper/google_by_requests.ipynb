{
 "cells": [
  {
   "cell_type": "markdown",
   "id": "00965a90",
   "metadata": {},
   "source": [
    "# Googleのサイトを取得する。\n",
    "\n",
    "`selenium`で取得することもできたが、取得するだけならWEBブラウザを介するなんて大げさなことをする必要はない。"
   ]
  },
  {
   "cell_type": "code",
   "execution_count": 1,
   "id": "58b3d555",
   "metadata": {},
   "outputs": [],
   "source": [
    "import requests\n"
   ]
  },
  {
   "cell_type": "code",
   "execution_count": 2,
   "id": "4c984d80",
   "metadata": {},
   "outputs": [],
   "source": [
    "url = \"https://www.google.com/\"\n"
   ]
  },
  {
   "cell_type": "markdown",
   "id": "ec1a76c4",
   "metadata": {},
   "source": [
    "レスポンスを受け取る。\n",
    "htmlも取得できる。"
   ]
  },
  {
   "cell_type": "code",
   "execution_count": 3,
   "id": "a6cab1f0",
   "metadata": {},
   "outputs": [],
   "source": [
    "response = requests.get(url)\n",
    "html = response.text\n"
   ]
  },
  {
   "cell_type": "markdown",
   "id": "3e2200ec",
   "metadata": {},
   "source": [
    "ここからはseleniumと同じ。  \n",
    "`requests`ライブラリでは解析はできないので、`BeautifulSoup`へ渡す。"
   ]
  },
  {
   "cell_type": "code",
   "execution_count": 4,
   "id": "8acf2213",
   "metadata": {},
   "outputs": [],
   "source": [
    "from bs4 import BeautifulSoup\n"
   ]
  },
  {
   "cell_type": "code",
   "execution_count": 5,
   "id": "dd5e16ab",
   "metadata": {},
   "outputs": [],
   "source": [
    "soup = BeautifulSoup(html, 'html.parser')\n"
   ]
  },
  {
   "cell_type": "markdown",
   "id": "d294ea24",
   "metadata": {},
   "source": [
    "適当に出力する"
   ]
  },
  {
   "cell_type": "code",
   "execution_count": 6,
   "id": "cdf07d1c",
   "metadata": {},
   "outputs": [
    {
     "name": "stdout",
     "output_type": "stream",
     "text": [
      "Google検索\n",
      "画像\n",
      "マップ\n",
      "Play\n",
      "YouTube\n",
      "ニュース\n",
      "Gmail\n",
      "ドライブ\n",
      "もっと見る\n",
      "»ウェブ履歴\n",
      "|\n",
      "設定\n",
      "|\n",
      "ログイン 検索オプション広告ビジネス\n",
      "ソリューションGoogle\n",
      "についてGoogle.co.jp©\n",
      "2023\n",
      "-\n",
      "プライバシー\n",
      "-\n",
      "規約\n"
     ]
    }
   ],
   "source": [
    "ll = filter(lambda x: len(x) > 0, soup.text.split(\" \"))\n",
    "for elem in ll:\n",
    "    print(elem)\n"
   ]
  }
 ],
 "metadata": {
  "kernelspec": {
   "display_name": "Python 3",
   "language": "python",
   "name": "python3"
  },
  "language_info": {
   "codemirror_mode": {
    "name": "ipython",
    "version": 3
   },
   "file_extension": ".py",
   "mimetype": "text/x-python",
   "name": "python",
   "nbconvert_exporter": "python",
   "pygments_lexer": "ipython3",
   "version": "3.11.6"
  }
 },
 "nbformat": 4,
 "nbformat_minor": 5
}
