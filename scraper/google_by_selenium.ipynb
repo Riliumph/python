{
 "cells": [
  {
   "cell_type": "code",
   "execution_count": 4,
   "metadata": {},
   "outputs": [],
   "source": [
    "from selenium import webdriver\n",
    "from selenium.webdriver.chrome.options import Options\n"
   ]
  },
  {
   "cell_type": "markdown",
   "id": "0d7607a5",
   "metadata": {},
   "source": [
    "Google Chromeのオプションを指定"
   ]
  },
  {
   "cell_type": "code",
   "execution_count": 6,
   "id": "97051365",
   "metadata": {},
   "outputs": [],
   "source": [
    "option = Options()\n",
    "option.add_argument('--headless')\n"
   ]
  },
  {
   "cell_type": "markdown",
   "id": "ab86a2ec",
   "metadata": {},
   "source": [
    "Chromeを起動する"
   ]
  },
  {
   "cell_type": "code",
   "execution_count": 7,
   "id": "d3e0e41e",
   "metadata": {},
   "outputs": [],
   "source": [
    "driver = webdriver.Chrome(options=option)\n"
   ]
  },
  {
   "cell_type": "code",
   "execution_count": 9,
   "id": "4c984d80",
   "metadata": {},
   "outputs": [],
   "source": [
    "url = \"https://www.google.com/\"\n"
   ]
  },
  {
   "cell_type": "code",
   "execution_count": 10,
   "id": "286534d5",
   "metadata": {},
   "outputs": [],
   "source": [
    "driver.get(url)\n"
   ]
  },
  {
   "cell_type": "markdown",
   "id": "ec1a76c4",
   "metadata": {},
   "source": [
    "htmlを取得"
   ]
  },
  {
   "cell_type": "code",
   "execution_count": 11,
   "id": "a6cab1f0",
   "metadata": {},
   "outputs": [],
   "source": [
    "html = driver.page_source\n"
   ]
  },
  {
   "cell_type": "markdown",
   "id": "3e2200ec",
   "metadata": {},
   "source": [
    "HTMLの解析はseleniumではできないので、Beautiful Soupへ連携する。"
   ]
  },
  {
   "cell_type": "code",
   "execution_count": 12,
   "id": "8acf2213",
   "metadata": {},
   "outputs": [],
   "source": [
    "from bs4 import BeautifulSoup\n"
   ]
  },
  {
   "cell_type": "code",
   "execution_count": 13,
   "id": "dd5e16ab",
   "metadata": {},
   "outputs": [],
   "source": [
    "soup = BeautifulSoup(html, 'html.parser')\n"
   ]
  },
  {
   "cell_type": "markdown",
   "id": "d294ea24",
   "metadata": {},
   "source": [
    "適当に出力する"
   ]
  },
  {
   "cell_type": "code",
   "execution_count": 14,
   "id": "cdf07d1c",
   "metadata": {},
   "outputs": [
    {
     "name": "stdout",
     "output_type": "stream",
     "text": [
      "Google\n",
      "GoogleについてストアGmail画像ログイン×\n",
      "もっと見る削除削除\n",
      "不適切な検索候補の報告\n",
      "お腹がすいた冒険したい遊びたい気分星になった気分Doodle\n",
      "を探そうトレンディーな気分芸術家気分笑いたい気分\n",
      "日本広告ビジネス\n",
      "検索の仕組み\n",
      "プライバシー規約設定検索設定検索オプション検索におけるデータ検索履歴ヘルプを検索フィードバックを送信ダークモード:\n",
      "オフGoogle\n",
      "アプリ\n"
     ]
    }
   ],
   "source": [
    "ll = filter(lambda x: len(x) > 0, soup.text.split(\" \"))\n",
    "for elem in ll:\n",
    "    print(elem)\n"
   ]
  }
 ],
 "metadata": {
  "kernelspec": {
   "display_name": "Python 3",
   "language": "python",
   "name": "python3"
  },
  "language_info": {
   "codemirror_mode": {
    "name": "ipython",
    "version": 3
   },
   "file_extension": ".py",
   "mimetype": "text/x-python",
   "name": "python",
   "nbconvert_exporter": "python",
   "pygments_lexer": "ipython3",
   "version": "3.11.6"
  }
 },
 "nbformat": 4,
 "nbformat_minor": 5
}
