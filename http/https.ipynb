{
 "cells": [
  {
   "cell_type": "code",
   "execution_count": 68,
   "id": "eafd5fa9-b22e-4313-9f98-a27dd4e98aad",
   "metadata": {},
   "outputs": [],
   "source": [
    "import requests\n",
    "import urllib3\n",
    "\n",
    "from requests.adapters import HTTPAdapter\n",
    "from urllib3.util import Retry"
   ]
  },
  {
   "cell_type": "markdown",
   "id": "a2f92d4d",
   "metadata": {},
   "source": [
    "httpbinはあくまでリードタイムアウトのみサポートしていることに注意  \n",
    "\n",
    "> そりゃ、繋がらないっていう状況を都合よく作るのは難しいよね\n"
   ]
  },
  {
   "cell_type": "code",
   "execution_count": 51,
   "id": "d3e5a887",
   "metadata": {},
   "outputs": [],
   "source": [
    "timeout = 3.0\n",
    "url = f\"https://httpbin.org/delay/{timeout}\""
   ]
  },
  {
   "cell_type": "markdown",
   "id": "a6060b1d",
   "metadata": {},
   "source": [
    "セッションの作成"
   ]
  },
  {
   "cell_type": "code",
   "execution_count": 52,
   "id": "4fd17c00",
   "metadata": {},
   "outputs": [],
   "source": [
    "session = requests.Session()"
   ]
  },
  {
   "cell_type": "markdown",
   "id": "dede761c",
   "metadata": {},
   "source": [
    "リトライ設定を作成  \n",
    "\n",
    "- max_retry: 最大リトライ回数\n",
    "- retry_interval: リトライ間隔\n",
    "- retry_status_codes: リトライ判定をtrue判定するステータスコード"
   ]
  },
  {
   "cell_type": "code",
   "execution_count": 73,
   "id": "e5ad8bc6",
   "metadata": {},
   "outputs": [],
   "source": [
    "max_retry = 2\n",
    "retry_interval = 1\n",
    "retry_status_codes = [400, 401, 403, 404, 500]\n",
    "\n",
    "retry_conf = Retry(total=max_retry,\n",
    "                   backoff_factor=retry_interval,\n",
    "                   status_forcelist=retry_status_codes)"
   ]
  },
  {
   "cell_type": "code",
   "execution_count": 74,
   "id": "1c557056",
   "metadata": {},
   "outputs": [],
   "source": [
    "prefix = url[:url.index(\"://\") + len(\"://\")]\n",
    "session.mount(prefix, HTTPAdapter(max_retries=retry_conf))"
   ]
  },
  {
   "cell_type": "markdown",
   "id": "0eef28bb",
   "metadata": {},
   "source": [
    "リクエスト発呼  \n",
    "\n",
    "- connection_timeout: 接続が確立する際の待機時間。TCP仕様では3秒での再送があるため3の倍数が良さげ\n",
    "- read_timeout: リクエストからレスポンスまでの応答待機時間。"
   ]
  },
  {
   "cell_type": "code",
   "execution_count": 75,
   "id": "7cafc779",
   "metadata": {},
   "outputs": [],
   "source": [
    "connection_timeout = 1.0\n",
    "read_timeout = 2.0\n",
    "to = (connection_timeout, read_timeout)"
   ]
  },
  {
   "cell_type": "markdown",
   "id": "601ee416",
   "metadata": {},
   "source": [
    "実行時間を計算してみる。\n",
    "\n",
    "> 最終的にはReadTimeoutErrorが発生する想定\n",
    "\n",
    "タイムアウトがリトライ回数分発生し、リトライごとにインターバルが発生するので以下の計算式になる。  \n",
    "ただし、前後することに注意。"
   ]
  },
  {
   "cell_type": "code",
   "execution_count": 76,
   "id": "08ec20ab",
   "metadata": {},
   "outputs": [
    {
     "data": {
      "text/plain": [
       "7.0"
      ]
     },
     "execution_count": 76,
     "metadata": {},
     "output_type": "execute_result"
    }
   ],
   "source": [
    "timeout * max_retry + retry_interval * max_retry - 1"
   ]
  },
  {
   "cell_type": "code",
   "execution_count": 77,
   "id": "34fb23c3",
   "metadata": {},
   "outputs": [
    {
     "name": "stdout",
     "output_type": "stream",
     "text": [
      "connection error\n"
     ]
    }
   ],
   "source": [
    "try:\n",
    "    response = session.get(url=url, timeout=to)\n",
    "except urllib3.exceptions.ReadTimeoutError as e:\n",
    "    print(\"read timeout\")\n",
    "except requests.exceptions.ConnectionError as e:\n",
    "    print(\"connection error\")\n",
    "except Exception as e:\n",
    "    print(f\"{type(e)}\")"
   ]
  }
 ],
 "metadata": {
  "kernelspec": {
   "display_name": "Python 3",
   "language": "python",
   "name": "python3"
  },
  "language_info": {
   "codemirror_mode": {
    "name": "ipython",
    "version": 3
   },
   "file_extension": ".py",
   "mimetype": "text/x-python",
   "name": "python",
   "nbconvert_exporter": "python",
   "pygments_lexer": "ipython3",
   "version": "3.12.2"
  }
 },
 "nbformat": 4,
 "nbformat_minor": 5
}
